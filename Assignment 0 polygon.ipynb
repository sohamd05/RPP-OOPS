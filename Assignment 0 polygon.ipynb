{
 "cells": [
  {
   "cell_type": "code",
   "execution_count": 22,
   "id": "c7165be7",
   "metadata": {},
   "outputs": [
    {
     "name": "stdout",
     "output_type": "stream",
     "text": [
      "Enter the numbers 0,1,2,3 : 3\n",
      "Report Dimension :\n",
      "Width: 3, Height: 4\n"
     ]
    }
   ],
   "source": [
    "#ASSIGNMENT 0  PART 1\n",
    "#. Design and implement a class representing a rectangle and operations like area, perimeter, \n",
    "#change dimensions, report dimensions, on it. Write code to test your classes.\n",
    "\n",
    "class Rectangle:\n",
    "    def __init__(self, width, height):\n",
    "        self.width = width\n",
    "        self.height = height\n",
    "\n",
    "    def area(self):\n",
    "        return self.width * self.height\n",
    "\n",
    "    def perimeter(self):\n",
    "        return 2 * (self.width + self.height)\n",
    "\n",
    "    def change_dimensions(self, width, height):\n",
    "        self.width = width\n",
    "        self.height = height\n",
    "\n",
    "    def report_dimensions(self):\n",
    "        return f\"Width: {self.width}, Height: {self.height}\"\n",
    " \n",
    "#enter 0 for area , 1 for perimeter , 2 for change_dimension , 3 for report_dimension\n",
    "b = int(input(\"Enter the numbers 0,1,2,3 : \"))\n",
    "rect = Rectangle(3, 4)\n",
    "\n",
    "if(b == 0):\n",
    "    print(\"Area:\", rect.area())\n",
    "\n",
    "elif(b == 1):\n",
    "    print(\"Perimeter:\", rect.perimeter()) \n",
    "\n",
    "elif(b == 2):\n",
    "# Change the dimensions of the rectangle\n",
    "    rect.change_dimensions(5, 6)\n",
    "    \n",
    "elif(b == 3):\n",
    "    print(\"Report Dimension :\")\n",
    "    print(rect.report_dimensions())    "
   ]
  },
  {
   "cell_type": "code",
   "execution_count": 14,
   "id": "d7585d67",
   "metadata": {},
   "outputs": [
    {
     "name": "stdout",
     "output_type": "stream",
     "text": [
      "Enter 0 for rectangle or 1 for square : 0\n",
      "20\n",
      "24\n"
     ]
    }
   ],
   "source": [
    "#ASSIGNMENT 0 PART 2\n",
    "#Design and implement classes representing a polygon shape, and derived classes like\n",
    "#rectangle, and square with the same operations as mentioned in assignment above. Write\n",
    "#code to test your classes\n",
    "\n",
    "class Polygon:\n",
    "    def __init__(self, num_sides, side_lengths):\n",
    "        self.num_sides = num_sides\n",
    "        self.side_lengths = side_lengths\n",
    "\n",
    "    def perimeter(self):\n",
    "        return sum(self.side_lengths)\n",
    "\n",
    "\n",
    "class Rectangle(Polygon):\n",
    "    def __init__(self, width, height):\n",
    "        super().__init__(4, [width, height, width, height])\n",
    "\n",
    "    def area(self):\n",
    "        return self.side_lengths[0] * self.side_lengths[1]\n",
    "\n",
    "\n",
    "class Square(Rectangle):\n",
    "    def __init__(self, side_length):\n",
    "        super().__init__(side_length, side_length)\n",
    "\n",
    "        \n",
    "\n",
    "a = int(input(\"Enter 0 for rectangle or 1 for square : \"))\n",
    "        \n",
    "if(a == 0):\n",
    "    rectangle = Rectangle(4, 6)\n",
    "    print(rectangle.perimeter()) \n",
    "    print(rectangle.area())\n",
    "elif(a == 1):\n",
    "    square = Square(5)\n",
    "    print(square.perimeter()) \n",
    "    print(square.area()) "
   ]
  },
  {
   "cell_type": "code",
   "execution_count": null,
   "id": "4df84c18",
   "metadata": {},
   "outputs": [],
   "source": []
  },
  {
   "cell_type": "code",
   "execution_count": null,
   "id": "394ae41b",
   "metadata": {},
   "outputs": [],
   "source": []
  }
 ],
 "metadata": {
  "kernelspec": {
   "display_name": "Python 3 (ipykernel)",
   "language": "python",
   "name": "python3"
  },
  "language_info": {
   "codemirror_mode": {
    "name": "ipython",
    "version": 3
   },
   "file_extension": ".py",
   "mimetype": "text/x-python",
   "name": "python",
   "nbconvert_exporter": "python",
   "pygments_lexer": "ipython3",
   "version": "3.9.13"
  }
 },
 "nbformat": 4,
 "nbformat_minor": 5
}
