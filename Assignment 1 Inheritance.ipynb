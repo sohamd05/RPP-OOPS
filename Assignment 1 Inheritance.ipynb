{
 "cells": [
  {
   "cell_type": "code",
   "execution_count": 1,
   "id": "8b9c5b84",
   "metadata": {},
   "outputs": [
    {
     "name": "stdout",
     "output_type": "stream",
     "text": [
      "Father : Shahikant\n",
      "Mother : Vaishali\n"
     ]
    }
   ],
   "source": [
    "# ASSIGNMENT 1 : \n",
    "# Q1 . Demonstaritions of different inheritance class  \n",
    "#Part A :  Single Inheritance\n",
    "\n",
    "#this is base class\n",
    "class mother:\n",
    "    mothername = \" \"\n",
    "    \n",
    "    def mother(self):\n",
    "        print(self.mothername)\n",
    "        \n",
    "         \n",
    "class father:\n",
    "    fathername = \" \"\n",
    "    \n",
    "    def father(self):\n",
    "        print(self.fathername)\n",
    "\n",
    "#derived class\n",
    "class son:\n",
    "    def parents(self):\n",
    "        print(\"Father :\",self.fathername)\n",
    "        print(\"Mother :\",self.mothername)\n",
    "        \n",
    "s1 = son()\n",
    "s1.fathername = \"Shahikant\"\n",
    "s1.mothername = \"Vaishali\"\n",
    "s1.parents()\n"
   ]
  },
  {
   "cell_type": "code",
   "execution_count": 5,
   "id": "8ed190fc",
   "metadata": {},
   "outputs": [
    {
     "name": "stdout",
     "output_type": "stream",
     "text": [
      "Grandfather's name is Shankar\n",
      "Father's name is Shashikant\n",
      "Son's name is Soham\n"
     ]
    }
   ],
   "source": [
    "# ASSIGNMENT 1 :   \n",
    "#Part B :  Multiple Inheritance \n",
    "\n",
    "\n",
    "class Grandfather:\n",
    "    def __init__(self, grandfather_name):\n",
    "        self.grandfather_name = grandfather_name\n",
    "\n",
    "    def display_grandfather(self):\n",
    "        print(\"Grandfather's name is\", self.grandfather_name)\n",
    "\n",
    "\n",
    "class Father(Grandfather):\n",
    "    def __init__(self, grandfather_name, father_name):\n",
    "        super().__init__(grandfather_name)\n",
    "        self.father_name = father_name\n",
    "\n",
    "    def display_father(self):\n",
    "        print(\"Father's name is\", self.father_name)\n",
    "\n",
    "\n",
    "class Son(Father):\n",
    "    def __init__(self, grandfather_name, father_name, son_name):\n",
    "        super().__init__(grandfather_name, father_name)\n",
    "        self.son_name = son_name\n",
    "\n",
    "    def display_son(self):\n",
    "        print(\"Son's name is\", self.son_name)\n",
    "    \n",
    "s = Son(\"Shankar\", \"Shashikant\",\"Soham\")\n",
    "s.display_grandfather()\n",
    "s.display_father()  \n",
    "s.display_son()"
   ]
  },
  {
   "cell_type": "code",
   "execution_count": null,
   "id": "f370b74d",
   "metadata": {},
   "outputs": [],
   "source": []
  }
 ],
 "metadata": {
  "kernelspec": {
   "display_name": "Python 3 (ipykernel)",
   "language": "python",
   "name": "python3"
  },
  "language_info": {
   "codemirror_mode": {
    "name": "ipython",
    "version": 3
   },
   "file_extension": ".py",
   "mimetype": "text/x-python",
   "name": "python",
   "nbconvert_exporter": "python",
   "pygments_lexer": "ipython3",
   "version": "3.9.13"
  }
 },
 "nbformat": 4,
 "nbformat_minor": 5
}
